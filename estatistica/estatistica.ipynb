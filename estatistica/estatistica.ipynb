{
 "cells": [
  {
   "cell_type": "markdown",
   "metadata": {},
   "source": [
    "# Estatística"
   ]
  },
  {
   "cell_type": "markdown",
   "metadata": {},
   "source": [
    "---------------------------------------------------------------------------------------------------------------------"
   ]
  },
  {
   "cell_type": "code",
   "execution_count": 28,
   "metadata": {},
   "outputs": [
    {
     "name": "stdout",
     "output_type": "stream",
     "text": [
      "14.5\n",
      "5.5\n",
      "99\n"
     ]
    }
   ],
   "source": [
    "# Média e Mediana\n",
    "\n",
    "def media(xs: list) -> float:\n",
    "    \"\"\"Essa função recebe uma lista de números\n",
    "    e retorna a média dos valores\"\"\"\n",
    "    return sum(xs) / len(xs)\n",
    "\n",
    "def mediana(xs: list) -> int:\n",
    "    \"\"\"Essa função recebe uma lista de números\n",
    "    e retorna a mediana dos valores\"\"\"\n",
    "    r = len(xs)\n",
    "    a = sorted(xs)\n",
    "    f = len(xs) // 2\n",
    "    if r%2 == 0:\n",
    "        return (a[f-1] + a[f]) / 2\n",
    "    else:\n",
    "        return a[r//2]\n",
    "    \n",
    "def amplitude(xs: list) -> float:\n",
    "    \"\"\"Essa função recebe uma lista de números\n",
    "    e retorna a sua amplitude\"\"\"\n",
    "    return max(xs) - min(xs)\n",
    "    \n",
    "print(media([1,2,3,4,5,6,7,8,9,100]))\n",
    "print(mediana([1,2,3,4,5,6,7,8,9,100]))\n",
    "print(amplitude([1,2,3,4,5,6,7,8,9,100]))"
   ]
  },
  {
   "cell_type": "code",
   "execution_count": 20,
   "metadata": {},
   "outputs": [
    {
     "data": {
      "text/plain": [
       "75"
      ]
     },
     "execution_count": 20,
     "metadata": {},
     "output_type": "execute_result"
    }
   ],
   "source": [
    "# a mediana é um quantil que separa 50% dos dados\n",
    "\n",
    "from random import randint\n",
    "numeros = [randint(1, 101) for i in range(101)]\n",
    "\n",
    "from typing import List\n",
    "\n",
    "\n",
    "def quantil(xs: List[float], p: float) -> float:\n",
    "    \"\"\"Retorna um determinado valor referente a um\n",
    "    quantil especificado de uma lista\"\"\"\n",
    "    posicao_do_elemento = int(len(xs) * p)\n",
    "    xs.sort()\n",
    "    return xs[posicao_do_elemento]\n",
    "\n",
    "quantil(numeros, 0.75)"
   ]
  },
  {
   "cell_type": "code",
   "execution_count": null,
   "metadata": {},
   "outputs": [],
   "source": [
    "from collections import Counter\n",
    "def moda(xs: List[float]) -> List[float]:\n",
    "    \"\"\"Retorna a(s) moda(s) de uma lista de números\"\"\"\n",
    "    count = Counter(xs)\n",
    "    max_count = max(count.values())\n",
    "    return [x for x, c in count.items() if c == max_count]\n",
    "\n",
    "moda(numeros)"
   ]
  },
  {
   "cell_type": "code",
   "execution_count": 30,
   "metadata": {},
   "outputs": [],
   "source": [
    "# Multiplicação de dois vetores\n",
    "\n",
    "def dot(v, w) -> float:\n",
    "    \"\"\"Calcula o produto de dois vetores, v_1 * w_1 + v_2 * w_2...\"\"\"\n",
    "    assert len(v) == len(w), 'as funções não têm o mesmo tamanho'\n",
    "\n",
    "    return sum(v_i * w_i for v_i, w_i in zip(v, w))\n",
    "\n",
    "# Soma dos quadrados de um vetor\n",
    "\n",
    "def sum_of_squares(v) -> float:\n",
    "    \"\"\"Calcula a soma dos quadrados dos vetores\"\"\"\n",
    "    return dot(v, v)\n"
   ]
  },
  {
   "cell_type": "code",
   "execution_count": 31,
   "metadata": {},
   "outputs": [
    {
     "name": "stdout",
     "output_type": "stream",
     "text": [
      "809.5100990099011\n"
     ]
    }
   ],
   "source": [
    "def de_mean(xs: List[float]) -> List[float]:\n",
    "    \"\"\"Traduza xs subtraindo sua média (para que o resultado tenha média 0)\"\"\"\n",
    "    xs_bar = sum(xs)/len(xs)\n",
    "    return [x - xs_bar for x in xs]\n",
    "\n",
    "# Variância: uma medida de dispersão\n",
    "def variance(xs: List[float]) -> float:\n",
    "    \"\"\"Quase o desvio quadrado médio da média\"\"\"\n",
    "    assert len(xs) >= 2, \"A lista deve ter pelo menos dois elementos\"\n",
    "\n",
    "    n = len(xs)\n",
    "    deviations = de_mean(xs)\n",
    "    return sum_of_squares(deviations) / (n - 1)\n",
    "\n",
    "print(variance(numeros))"
   ]
  },
  {
   "cell_type": "code",
   "execution_count": 33,
   "metadata": {},
   "outputs": [
    {
     "name": "stdout",
     "output_type": "stream",
     "text": [
      "28.45189095666404\n",
      "47\n"
     ]
    }
   ],
   "source": [
    "import math\n",
    "\n",
    "def standard_deviation(xs: List[float]) -> float:\n",
    "    \"Calcula o desvio padrão de uma lista de números, também conhecido como a raiz quadrada da variância\"\n",
    "    \n",
    "    return math.sqrt(variance(xs))\n",
    "\n",
    "print(standard_deviation(numeros))\n",
    "\n",
    "def interquartil_range(xs: List[float]) -> float:\n",
    "    \"\"\"Retorna a diferença entre o percentil 75% e o 25%\"\"\"\n",
    "    return quantil(xs, 0.75) - quantil(xs, 0.25)\n",
    "\n",
    "print(interquartil_range(numeros))"
   ]
  },
  {
   "cell_type": "code",
   "execution_count": 35,
   "metadata": {},
   "outputs": [],
   "source": [
    "def covariance(xs: List[float], ys: List[float]) -> float:\n",
    "    assert len(xs) == len(ys), 'as listas devem ter o mesmo tamnho'\n",
    "\n",
    "    return dot(de_mean(xs), de_mean(ys)) / (len(xs) - 1)\n",
    "\n",
    "# Uma covariância positiva \"alta\" indica que x tende a ser alto quando y é alto e\n",
    "# uma covariância negativa \"alta\" indica o oposto que x tende a ser alto quando y é baixo e\n",
    "# uma covariância próxima de zero indica que essa relação não existe"
   ]
  },
  {
   "cell_type": "code",
   "execution_count": 54,
   "metadata": {},
   "outputs": [
    {
     "name": "stdout",
     "output_type": "stream",
     "text": [
      "-0.9999999999999999\n",
      "1.0\n",
      "0.719874033065356\n"
     ]
    }
   ],
   "source": [
    "# É mais comum se calcular a correlação\n",
    "\n",
    "def correlacao(xs: List[float], ys: List[float]) -> float:\n",
    "    \"\"\"Mede a variação simultânea de xs e ys a partir de suas médias\"\"\"\n",
    "\n",
    "    stdev_x = standard_deviation(xs)\n",
    "    stdev_y = standard_deviation(ys)\n",
    "\n",
    "    if stdev_x > 0 and stdev_y > 0:\n",
    "        return covariance(xs, ys) / stdev_x / stdev_y\n",
    "    else:\n",
    "        return 0 # se não houver variação, a correlção será zero\n",
    "    \n",
    "\n",
    "# correlações vão de -1 (anticorrelação perfeita) até 1 (correlação perfeita)\n",
    "\n",
    "print(correlacao([2, 4, 8, 16], [-2, -4, -8, -16]))\n",
    "print(correlacao([1, 2, 3], [1, 2, 3]))\n",
    "print(correlacao([8,4,9,3], [11,2,8,6]))"
   ]
  }
 ],
 "metadata": {
  "kernelspec": {
   "display_name": "Python 3",
   "language": "python",
   "name": "python3"
  },
  "language_info": {
   "codemirror_mode": {
    "name": "ipython",
    "version": 3
   },
   "file_extension": ".py",
   "mimetype": "text/x-python",
   "name": "python",
   "nbconvert_exporter": "python",
   "pygments_lexer": "ipython3",
   "version": "3.12.2"
  }
 },
 "nbformat": 4,
 "nbformat_minor": 2
}
