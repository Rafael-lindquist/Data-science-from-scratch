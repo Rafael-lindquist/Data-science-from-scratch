{
 "cells": [
  {
   "cell_type": "markdown",
   "metadata": {},
   "source": [
    "## Hipótese e Inferência"
   ]
  },
  {
   "cell_type": "markdown",
   "metadata": {},
   "source": [
    "--------------------------------------------------------------------------------------------------------------------------------------"
   ]
  },
  {
   "cell_type": "markdown",
   "metadata": {},
   "source": [
    "É mais provável que as pessoas saiam da página sem ler o conteúdo quando surge um anúncio em uma janela pop-up com um botão de fechar pequeno e inacessível?"
   ]
  },
  {
   "cell_type": "code",
   "execution_count": 2,
   "metadata": {},
   "outputs": [],
   "source": [
    "from typing import Tuple \n",
    "import math\n",
    "\n",
    "def normal_approximation_to_binomial(n: int, p: float) -> Tuple[float, float]:\n",
    "    \"\"\"Retorna mu e sigma correspondentes Binomial (n, p)\"\"\"\n",
    "    mu = p * n\n",
    "    sigma = math.sqrt(p * (1 - p) * n)\n",
    "    return mu, sigma\n",
    "\n"
   ]
  },
  {
   "cell_type": "code",
   "execution_count": 3,
   "metadata": {},
   "outputs": [],
   "source": [
    "# Normal cdf e inverse normal cdf\n",
    "\n",
    "def normal_cdf(x: float, mu: float = 0, sigma: float = 1) -> float:\n",
    "    return (1 + math.erf((x - mu) / math.sqrt(2) / sigma)) / 2\n",
    "\n",
    "def inverse_normal_cdf(p: float, mu: float = 0, sigma: float = 1, tolerance: float = 0.00001) -> float:\n",
    "    \"\"\"Encontre o inverso aproximado usando a pesquisa binária\"\"\"\n",
    "\n",
    "    # se não for padrão, compute o padrão e redimensione\n",
    "    if mu != 0 or sigma != 1:\n",
    "        return mu + sigma * inverse_normal_cdf(p, tolerance=tolerance)\n",
    "    \n",
    "    low_z = -10.0 # normal_cdf(-10) é muito próxima de 0\n",
    "    hi_z = 10.0 # normal_cdf(10) é muito próxima de 1\n",
    "\n",
    "    while hi_z - low_z > tolerance:\n",
    "        mid_z = (low_z + hi_z) / 2 # Considere o ponto médio\n",
    "        mid_p = normal_cdf(mid_z)  # e o valor da CDF\n",
    "        if mid_p < p:\n",
    "            low_z = mid_z          # O ponto médio é muito baixo, procure um maior\n",
    "        else: \n",
    "            hi_z = mid_z           # O ponto médio é muito alto, procure um menor\n",
    "\n",
    "    return mid_z"
   ]
  },
  {
   "cell_type": "markdown",
   "metadata": {},
   "source": [
    "Sempre que uma variável aleatória segue uma distribuição normal, é possível aplicar o normal_cdf para descobrir a probabilidade de o seu valor realizado estar contido (ou não) em um determinado intervalo"
   ]
  },
  {
   "cell_type": "code",
   "execution_count": 16,
   "metadata": {},
   "outputs": [],
   "source": [
    "# O normal cdf é a probabilidade de a variável estar abaixo de um limite \n",
    "normal_probability_below = normal_cdf\n",
    "\n",
    "# Está acima do limite se não está abaixo do limite\n",
    "def normal_probability_above(lo: float, mu: float = 0, sigma: float = 1) -> float:\n",
    "    \"\"\"A probabilidade que um N(mu, sigma) seja maior do que lo\"\"\"\n",
    "    return 1 - normal_cdf(lo, mu, sigma)\n",
    "\n",
    "# Está entre se é menor do que hi, mas não menor do que lo\n",
    "def normal_probability_between(lo: float, hi: float, mu: float = 0, sigma: float = 1) -> float:\n",
    "    \"\"\"A probabilidade de que um N(mu, sigma) esteja entre lo e hi\"\"\"\n",
    "    return normal_cdf(hi, mu, sigma) - normal_cdf(lo, mu, sigma)\n",
    "\n",
    "# Está fora ou não está entre\n",
    "def normal_proabability_outside(lo: float, hi: float, mu: float = 0, sigma: float = 1) -> float:\n",
    "    \"\"\"A probabilidade de que um N(mu, sigma) não esteja entre lo e hi\"\"\"\n",
    "    return 1 - normal_probability_between(lo, hi, mu, sigma)"
   ]
  },
  {
   "cell_type": "code",
   "execution_count": 5,
   "metadata": {},
   "outputs": [],
   "source": [
    "def normal_upper_bound(probability: float, mu: float = 0, sigma: float = 1) -> float:\n",
    "    \"\"\"Retorna o z para o qual P(Z <= z) = probabilidade\"\"\"\n",
    "    return inverse_normal_cdf(probability, mu, sigma)\n",
    "\n",
    "def normal_lower_bound(probability: float, mu: float = 0, sigma: float = 1) -> float:\n",
    "    \"\"\"Retorna o z para o qual P(Z >= z) = probabilidade\"\"\"\n",
    "    return inverse_normal_cdf(1 - probability, mu, sigma)\n",
    "\n",
    "def normal_two_sided_bounds(probability: float, mu: float = 0, sigma: float = 1) -> Tuple[float, float]:\n",
    "    \"\"\"Retorna os limites simétricos (relativos à média) que contêm a probabilidade especificada\"\"\"\n",
    "\n",
    "    tail_probability = (1 - probability) / 2\n",
    "    \n",
    "    # O limite superior deve estar abaixo de tail_probability\n",
    "    upper_bound = normal_lower_bound(tail_probability, mu, sigma)\n",
    "\n",
    "    # O limite inferior deve estar acima de tail_probability\n",
    "    lower_bound = normal_upper_bound(tail_probability, mu, sigma)\n",
    "\n",
    "    return lower_bound, upper_bound"
   ]
  },
  {
   "cell_type": "markdown",
   "metadata": {},
   "source": [
    "Testando uma moeda para saber se ela é honesta e possui 50% de chance de cair cara e 50% de chance de cair coroa. Para isso os lançamentos devem estar distribuidos, aproximadamente, de modo normal com média 500 e desvio padão 15.8"
   ]
  },
  {
   "cell_type": "code",
   "execution_count": 6,
   "metadata": {},
   "outputs": [
    {
     "name": "stdout",
     "output_type": "stream",
     "text": [
      "500.0 15.811388300841896\n"
     ]
    }
   ],
   "source": [
    "mu_0, sigma_0 = normal_approximation_to_binomial(1000, 0.5)\n",
    "print(mu_0, sigma_0)"
   ]
  },
  {
   "cell_type": "markdown",
   "metadata": {},
   "source": [
    "#### Executando um teste A/B"
   ]
  },
  {
   "cell_type": "code",
   "execution_count": 12,
   "metadata": {},
   "outputs": [],
   "source": [
    "def parametros_estimados(N: int, n: int) -> Tuple[float, float]:\n",
    "    p = n / N\n",
    "    sigma = math.sqrt(p * (1 - p) / N)\n",
    "    return (p, sigma)"
   ]
  },
  {
   "cell_type": "code",
   "execution_count": 13,
   "metadata": {},
   "outputs": [],
   "source": [
    "def a_b_test_estatistica(N_A: int, n_A: int, N_B: int, n_B: int) -> float:\n",
    "    p_A, sigma_A = parametros_estimados(N_A, n_A)\n",
    "    p_B, sigma_B = parametros_estimados(N_B, n_B)\n",
    "    return (p_B - p_A) / math.sqrt(sigma_A**2 + sigma_B**2)\n",
    "\n",
    "# Esse valor vai ser aproximadamente uma normal padrão"
   ]
  },
  {
   "cell_type": "code",
   "execution_count": 22,
   "metadata": {},
   "outputs": [],
   "source": [
    "def two_sided_p_value(x: float, mu: float = 0, sigma: float = 1) -> float:\n",
    "    \"\"\"Qual é a probabilidade de observar um valor pelo menos tão\n",
    "    extremo quanto x (em qualquer direção) se os valores vêm de um\n",
    "    N(mu, sigma)?\"\"\"\n",
    "\n",
    "    if x >= mu:\n",
    "        return 2 * normal_probability_above(x, mu, sigma)\n",
    "    else: \n",
    "        return 2 * normal_probability_below(x, mu, sigma)"
   ]
  },
  {
   "cell_type": "markdown",
   "metadata": {},
   "source": [
    "Estatísticas de testes A/B em clique em anúncios."
   ]
  },
  {
   "cell_type": "code",
   "execution_count": 23,
   "metadata": {},
   "outputs": [
    {
     "name": "stdout",
     "output_type": "stream",
     "text": [
      "-1.1403464899034472 0.254141976542236\n"
     ]
    }
   ],
   "source": [
    "# Exemplo: anúncio A teve 200 cliques em 1000 visualizações e anúncio B teve 180 cliques em 1000 visualizações\n",
    "z = a_b_test_estatistica(1000, 200, 1000, 180)\n",
    "print(z, two_sided_p_value(z))"
   ]
  },
  {
   "cell_type": "markdown",
   "metadata": {},
   "source": [
    "Esse valor é tão grande que não se pode definir se há alguma diferença"
   ]
  },
  {
   "cell_type": "code",
   "execution_count": 30,
   "metadata": {},
   "outputs": [
    {
     "name": "stdout",
     "output_type": "stream",
     "text": [
      "-2.948839123097944 0.003189699706216853\n"
     ]
    }
   ],
   "source": [
    "# Anúncio 2 com apenas 150 cliques\n",
    "z = a_b_test_estatistica(1000, 200, 1000, 150)\n",
    "print(z, two_sided_p_value(z))"
   ]
  },
  {
   "cell_type": "markdown",
   "metadata": {},
   "source": [
    "Há somente uma probabilidade de 0.003 de observar essa grande diferença se os anúncios forem igualmente eficazes"
   ]
  },
  {
   "cell_type": "markdown",
   "metadata": {},
   "source": [
    "#### Inferência Bayesiana"
   ]
  },
  {
   "cell_type": "code",
   "execution_count": 39,
   "metadata": {},
   "outputs": [],
   "source": [
    "def B(alpha: float, beta: float) -> float:\n",
    "    \"\"\"Uma constante normalizadora para a qual a probabilidade total é 1\"\"\"\n",
    "    return math.gamma(alpha) * math.gamma(beta) / math.gamma(alpha + beta)\n",
    "\n",
    "def beta_pdf(x: float, alpha: float, beta: float) -> float:\n",
    "    if x <= 0 or x >= 1:\n",
    "        return 0\n",
    "    return x ** (alpha - 1) * (1 - x) ** (beta - 1) / B(alpha, beta)"
   ]
  },
  {
   "cell_type": "code",
   "execution_count": 40,
   "metadata": {},
   "outputs": [
    {
     "data": {
      "image/png": "[encoded data removed]",
      "text/plain": [
       "<Figure size 640x480 with 1 Axes>"
      ]
     },
     "metadata": {},
     "output_type": "display_data"
    }
   ],
   "source": [
    "import matplotlib.pyplot as plt\n",
    "xs = [x / 10.0 for x in range(-50, 50)]\n",
    "\n",
    "plt.plot(xs, [beta_pdf(x, 1,1) for x in xs], '-', label='Beta(1,1)') # distribuição normal padrão\n",
    "plt.plot(xs, [beta_pdf(x, 10, 10) for x in xs], '--', label='Beta(10,10)')\n",
    "plt.plot(xs, [beta_pdf(x, 4, 16) for x in xs], ':', label='Beta(4,16)')\n",
    "plt.plot(xs, [beta_pdf(x, 16, 4) for x in xs], '-.', label='Beta(16,4)')\n",
    "plt.legend()\n",
    "plt.title('Distribuições de Beta')\n",
    "plt.axis([0, 1, 0, 5])\n",
    "plt.show()"
   ]
  }
 ],
 "metadata": {
  "kernelspec": {
   "display_name": "Python 3",
   "language": "python",
   "name": "python3"
  },
  "language_info": {
   "codemirror_mode": {
    "name": "ipython",
    "version": 3
   },
   "file_extension": ".py",
   "mimetype": "text/x-python",
   "name": "python",
   "nbconvert_exporter": "python",
   "pygments_lexer": "ipython3",
   "version": "3.12.2"
  }
 },
 "nbformat": 4,
 "nbformat_minor": 2
}
