{
 "cells": [
  {
   "cell_type": "markdown",
   "metadata": {},
   "source": [
    "## Analisando a correlação entres minhas notas e minha faltas na faculdade"
   ]
  },
  {
   "cell_type": "markdown",
   "metadata": {},
   "source": [
    "--------------------------------------------------------------------------------------------------------------------------------------"
   ]
  },
  {
   "cell_type": "code",
   "execution_count": 18,
   "metadata": {},
   "outputs": [],
   "source": [
    "import pandas as pd\n",
    "import seaborn as sns\n",
    "import math\n",
    "from typing import Dict, Tuple\n",
    "\n",
    "Notas = float\n",
    "Faltas = int\n",
    "Aulas = str"
   ]
  },
  {
   "cell_type": "markdown",
   "metadata": {},
   "source": [
    "### 1) Criando um dataframe com minhas aulas, notas e faltas "
   ]
  },
  {
   "cell_type": "code",
   "execution_count": 19,
   "metadata": {},
   "outputs": [],
   "source": [
    "notasefaltas: Dict[Aulas, Tuple[Notas, Faltas]] = {\n",
    "    \"Identidade profissional\": (8.5, 0), \"Introdução à programação\": (10.0, 4),\n",
    "    \"Lógica computacional\": (8.0, 0), \"Desenho técnico\": (7.5, 2),\n",
    "    \"CTS\": (10.0, 4), \"Megaclass\": (9.0, 0), \n",
    "    \"Cosmovisão\": (8.5, 2), \"IHC\": (9.0, 1),\n",
    "    \"Cálculo I\": (7.5, 6), \"Antropologia\": (9.5, 5),\n",
    "    \"Algoritmos e programação\": (8.0, 8), \"Inglês instrumental\": (9.0, 0),\n",
    "    \"LPT\": (6.5, 6)\n",
    "    }"
   ]
  },
  {
   "cell_type": "code",
   "execution_count": 14,
   "metadata": {},
   "outputs": [
    {
     "data": {
      "text/html": [
       "<div>\n",
       "<style scoped>\n",
       "    .dataframe tbody tr th:only-of-type {\n",
       "        vertical-align: middle;\n",
       "    }\n",
       "\n",
       "    .dataframe tbody tr th {\n",
       "        vertical-align: top;\n",
       "    }\n",
       "\n",
       "    .dataframe thead th {\n",
       "        text-align: right;\n",
       "    }\n",
       "</style>\n",
       "<table border=\"1\" class=\"dataframe\">\n",
       "  <thead>\n",
       "    <tr style=\"text-align: right;\">\n",
       "      <th></th>\n",
       "      <th>Matérias</th>\n",
       "      <th>Notas</th>\n",
       "      <th>Faltas</th>\n",
       "    </tr>\n",
       "  </thead>\n",
       "  <tbody>\n",
       "    <tr>\n",
       "      <th>0</th>\n",
       "      <td>Identidade profissional</td>\n",
       "      <td>8.5</td>\n",
       "      <td>0.0</td>\n",
       "    </tr>\n",
       "    <tr>\n",
       "      <th>1</th>\n",
       "      <td>Introdução à programação</td>\n",
       "      <td>10.0</td>\n",
       "      <td>4.0</td>\n",
       "    </tr>\n",
       "    <tr>\n",
       "      <th>2</th>\n",
       "      <td>Lógica computacional</td>\n",
       "      <td>8.0</td>\n",
       "      <td>0.0</td>\n",
       "    </tr>\n",
       "    <tr>\n",
       "      <th>3</th>\n",
       "      <td>Desenho técnico</td>\n",
       "      <td>7.5</td>\n",
       "      <td>2.0</td>\n",
       "    </tr>\n",
       "    <tr>\n",
       "      <th>4</th>\n",
       "      <td>CTS</td>\n",
       "      <td>10.0</td>\n",
       "      <td>4.0</td>\n",
       "    </tr>\n",
       "    <tr>\n",
       "      <th>5</th>\n",
       "      <td>Megaclass</td>\n",
       "      <td>9.0</td>\n",
       "      <td>0.0</td>\n",
       "    </tr>\n",
       "    <tr>\n",
       "      <th>6</th>\n",
       "      <td>Cosmovisão</td>\n",
       "      <td>8.5</td>\n",
       "      <td>2.0</td>\n",
       "    </tr>\n",
       "    <tr>\n",
       "      <th>7</th>\n",
       "      <td>IHC</td>\n",
       "      <td>9.0</td>\n",
       "      <td>1.0</td>\n",
       "    </tr>\n",
       "    <tr>\n",
       "      <th>8</th>\n",
       "      <td>Cálculo I</td>\n",
       "      <td>7.5</td>\n",
       "      <td>6.0</td>\n",
       "    </tr>\n",
       "    <tr>\n",
       "      <th>9</th>\n",
       "      <td>Antropologia</td>\n",
       "      <td>9.5</td>\n",
       "      <td>5.0</td>\n",
       "    </tr>\n",
       "    <tr>\n",
       "      <th>10</th>\n",
       "      <td>Algoritmos e programação</td>\n",
       "      <td>8.0</td>\n",
       "      <td>8.0</td>\n",
       "    </tr>\n",
       "    <tr>\n",
       "      <th>11</th>\n",
       "      <td>Inglês instrumental</td>\n",
       "      <td>9.0</td>\n",
       "      <td>0.0</td>\n",
       "    </tr>\n",
       "    <tr>\n",
       "      <th>12</th>\n",
       "      <td>LPT</td>\n",
       "      <td>6.5</td>\n",
       "      <td>6.0</td>\n",
       "    </tr>\n",
       "  </tbody>\n",
       "</table>\n",
       "</div>"
      ],
      "text/plain": [
       "                    Matérias Notas Faltas\n",
       "0    Identidade profissional   8.5    0.0\n",
       "1   Introdução à programação  10.0    4.0\n",
       "2       Lógica computacional   8.0    0.0\n",
       "3            Desenho técnico   7.5    2.0\n",
       "4                        CTS  10.0    4.0\n",
       "5                  Megaclass   9.0    0.0\n",
       "6                 Cosmovisão   8.5    2.0\n",
       "7                        IHC   9.0    1.0\n",
       "8                  Cálculo I   7.5    6.0\n",
       "9               Antropologia   9.5    5.0\n",
       "10  Algoritmos e programação   8.0    8.0\n",
       "11       Inglês instrumental   9.0    0.0\n",
       "12                       LPT   6.5    6.0"
      ]
     },
     "execution_count": 14,
     "metadata": {},
     "output_type": "execute_result"
    }
   ],
   "source": [
    "df = pd.DataFrame(notasefaltas.values()).transpose()\n",
    "df.loc[2] = notasefaltas.keys()\n",
    "df.iloc[[0, 2]] = df.iloc[[2, 0]].values\n",
    "df.iloc[[1, 2]] = df.iloc[[2, 1]].values\n",
    "df = df.transpose()\n",
    "df.columns = [\"Matérias\", \"Notas\", \"Faltas\"]\n",
    "df"
   ]
  },
  {
   "cell_type": "markdown",
   "metadata": {},
   "source": [
    "### 2) Analisando se há correlação entre as minhas notas e minhas faltas"
   ]
  },
  {
   "cell_type": "code",
   "execution_count": 15,
   "metadata": {},
   "outputs": [],
   "source": [
    "# Funções do capítulo de estatística\n",
    "def desvio_padrao(lista: list) -> float:\n",
    "    \"\"\"Calcula o desvio padrão\"\"\"\n",
    "    media = sum(lista) / len(lista)\n",
    "    a = [i - media for i in lista]\n",
    "    b = sum([i**2 for i in a]) / len(lista)\n",
    "    return math.sqrt(b)\n",
    "\n",
    "def desvio_media(xs: list[float]) -> list[float]:\n",
    "    \"\"\"Traduza xs subtraindo sua média (para que o resultado tenha média 0)\"\"\"\n",
    "    xs_bar = sum(xs)/len(xs)\n",
    "    return [x - xs_bar for x in xs]\n",
    "\n",
    "def dot(v, w) -> float:\n",
    "    \"\"\"Calcula o produto de dois vetores, v_1 * w_1 + v_2 * w_2...\"\"\"\n",
    "    return sum(v_i * w_i for v_i, w_i in zip(v, w))\n",
    "\n",
    "def covariance(xs: list[float], ys: list[float]) -> float:\n",
    "    assert len(xs) == len(ys), 'as listas devem ter o mesmo tamnho'\n",
    "\n",
    "    return dot(desvio_media(xs), desvio_media(ys)) / (len(xs) - 1)\n",
    "\n",
    "def correlacao(xs: list[float], ys: list[float]) -> float:\n",
    "    \"\"\"Mede a variação simultânea de xs e ys a partir de suas médias\"\"\"\n",
    "\n",
    "    stdev_x = desvio_padrao(xs)\n",
    "    stdev_y = desvio_padrao(ys)\n",
    "\n",
    "    if stdev_x > 0 and stdev_y > 0:\n",
    "        return covariance(xs, ys) / stdev_x / stdev_y\n",
    "    else:\n",
    "        return 0 # se não houver variação, a correlção será zero"
   ]
  },
  {
   "cell_type": "code",
   "execution_count": 16,
   "metadata": {},
   "outputs": [
    {
     "data": {
      "text/plain": [
       "-0.25350978020301224"
      ]
     },
     "execution_count": 16,
     "metadata": {},
     "output_type": "execute_result"
    }
   ],
   "source": [
    "# Analisando a correlção entre as notas e as faltas\n",
    "\n",
    "correlacao(df[\"Notas\"], df[\"Faltas\"])"
   ]
  },
  {
   "cell_type": "markdown",
   "metadata": {},
   "source": [
    "#### A correlação foi de -0.25350978020301224, indicando que notas e faltas estão indiretamentes relacionadas e que a correlação entre elas é fraca."
   ]
  },
  {
   "cell_type": "markdown",
   "metadata": {},
   "source": [
    "### 3) Plotando minhas notas e faltas"
   ]
  },
  {
   "cell_type": "code",
   "execution_count": 17,
   "metadata": {},
   "outputs": [
    {
     "data": {
      "text/plain": [
       "<Axes: xlabel='Notas', ylabel='Faltas'>"
      ]
     },
     "execution_count": 17,
     "metadata": {},
     "output_type": "execute_result"
    },
    {
     "data": {
      "image/png": "[encoded data removed]",
      "text/plain": [
       "<Figure size 640x480 with 1 Axes>"
      ]
     },
     "metadata": {},
     "output_type": "display_data"
    }
   ],
   "source": [
    "sns.set_style(\"darkgrid\")\n",
    "sns.scatterplot(data=df, x=\"Notas\", y=\"Faltas\")"
   ]
  }
 ],
 "metadata": {
  "kernelspec": {
   "display_name": "Python 3",
   "language": "python",
   "name": "python3"
  },
  "language_info": {
   "codemirror_mode": {
    "name": "ipython",
    "version": 3
   },
   "file_extension": ".py",
   "mimetype": "text/x-python",
   "name": "python",
   "nbconvert_exporter": "python",
   "pygments_lexer": "ipython3",
   "version": "3.12.2"
  }
 },
 "nbformat": 4,
 "nbformat_minor": 2
}
