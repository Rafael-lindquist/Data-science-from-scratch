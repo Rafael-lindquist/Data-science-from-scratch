{
 "cells": [
  {
   "cell_type": "markdown",
   "metadata": {},
   "source": [
    "# Algebra Linear"
   ]
  },
  {
   "cell_type": "markdown",
   "metadata": {},
   "source": [
    "---------------------------------------------------------------------------------------------------------------------"
   ]
  },
  {
   "cell_type": "code",
   "execution_count": 2,
   "metadata": {},
   "outputs": [],
   "source": [
    "from typing import List\n",
    "Vector = List[float]\n",
    "\n",
    "height_weight_age = [70,  # polegadas\n",
    "                     170, # libras\n",
    "                     40]  # anos\n",
    "\n",
    "grades = [95,\n",
    "          80,\n",
    "          75,\n",
    "          62]"
   ]
  },
  {
   "cell_type": "markdown",
   "metadata": {},
   "source": [
    "A soma dos vetores [1,2] e [2,1] é [1 + 2, 2 + 1] = [3,3]"
   ]
  },
  {
   "cell_type": "code",
   "execution_count": 3,
   "metadata": {},
   "outputs": [],
   "source": [
    "# Soma de vetores\n",
    "def add(v: Vector, w: Vector) -> Vector:\n",
    "    \"\"\"Soma os elementos correspondentes\"\"\"\n",
    "    assert len(v) == len(w), 'Os vetores devem ser do mesmo tamanho'\n",
    "    return [v_i + w_i for v_i, w_i in zip(v, w)]\n",
    "\n",
    "assert add([1, 2, 3], [4, 5, 6]) == [5, 7, 9], 'a função não funcionou'"
   ]
  },
  {
   "cell_type": "code",
   "execution_count": 4,
   "metadata": {},
   "outputs": [
    {
     "data": {
      "image/png": "[encoded data removed]",
      "text/plain": [
       "<Figure size 600x300 with 1 Axes>"
      ]
     },
     "metadata": {},
     "output_type": "display_data"
    }
   ],
   "source": [
    "# Visualização da soma de vetores\n",
    "import matplotlib.pyplot as plt\n",
    "\n",
    "def plot_soma(x: Vector, y: Vector) -> None:\n",
    "    \"\"\"Essa função faz a plotagem de uma soma \n",
    "    de vetores\"\"\"\n",
    "    vetor = add(x, y)\n",
    "    plt.figure(figsize=(6, 3), facecolor=(1, 0.95, 1))\n",
    "    plt.plot([0, x[0]], [0, x[1]], zorder=2, color=(1, 0.7, 0.7), label=f\"({x[0]}, {x[1]})\")\n",
    "    plt.plot([0+x[0], y[0]+x[0]], [0+x[1], y[1]+x[1]], zorder=2, color=(0.7, 0.7, 1), label=f\"({y[0]}, {y[1]})\")\n",
    "    plt.plot([0, vetor[0]], [0, vetor[1]], zorder=2, color=(0.45, 0.3, 0.45),label=f\"({vetor[0]}, {vetor[1]})\")    \n",
    "    plt.title(\"Soma de dois vetores\")\n",
    "    plt.grid(zorder=1, color=(0.95, 0.95, 0.95))\n",
    "    plt.legend(loc=2)\n",
    "    plt.show()\n",
    "\n",
    "plot_soma([8,2], [4,5])"
   ]
  },
  {
   "cell_type": "code",
   "execution_count": 17,
   "metadata": {},
   "outputs": [],
   "source": [
    "# Subtração de vetores\n",
    "\n",
    "def subtract(v: Vector, w: Vector) -> Vector:\n",
    "    \"\"\"Soma os elementos correspondentes\"\"\"\n",
    "    assert len(v) == len(w), 'Os vetores devem ser do mesmo tamanho'\n",
    "    return [v_i - w_i for v_i, w_i in zip(v, w)]\n",
    "\n",
    "assert subtract([1, 2, 3], [4, 5, 6]) == [-3, -3, -3], 'a função não funcionou'"
   ]
  },
  {
   "cell_type": "markdown",
   "metadata": {},
   "source": [
    "Soma de uma lista de vetores: [1,2] + [2,3] + [7,8] == [10,13]"
   ]
  },
  {
   "cell_type": "code",
   "execution_count": null,
   "metadata": {},
   "outputs": [],
   "source": [
    "# Soma de mais de um vetor (todos devem ter o mesmo tamanho)\n",
    "\n",
    "def vector_sum(vectors: List[Vector]) -> Vector:\n",
    "    \"\"\"Soma de mais de dois vetores\"\"\"\n",
    "    assert vectors, \"nenhum vetor foi fornecido\"\n",
    "\n",
    "    num_elements =len(vectors[0])\n",
    "    assert all(len(v) == num_elements for v in vectors), \"os vetores têm tamanhos diferentes\"\n",
    "\n",
    "    return [sum(vector[i] for vector in vectors ) for i in range(num_elements)]\n",
    "\n",
    "print(vector_sum([[4,7,9], [8,2,1], [7,4,6], [0,7,3]]))"
   ]
  },
  {
   "cell_type": "code",
   "execution_count": null,
   "metadata": {},
   "outputs": [],
   "source": [
    "# Outra função que soma mais de um vetor, mas devolve um dicionário com a soma\n",
    "def sum_vectors(vectors: List[Vector]) -> dict:\n",
    "    \"\"\"Essa função recebe uma lista de vetores e retorna um\n",
    "    vetor resultante da soma dos vetores da lista\"\"\"\n",
    "    num_elements = len(vectors[0])\n",
    "    assert all(len(v) == num_elements for v in vectors), \"Nem todos os vetores têm o mesmo tamanho\"\n",
    "\n",
    "    soma = {}\n",
    "    for i in range(num_elements):\n",
    "        soma[i] = 0\n",
    "\n",
    "    for i in range(num_elements):\n",
    "        for vector in vectors:\n",
    "            soma[i] += vector[i]\n",
    "\n",
    "    return soma\n",
    "\n",
    "sum_vectors([[12,47,98,85,74], [23,25,41,47,59], [0,19,203,7,45], [456,23,41,36,64]])"
   ]
  },
  {
   "cell_type": "code",
   "execution_count": 3,
   "metadata": {},
   "outputs": [],
   "source": [
    "# Multiplicação de vetores\n",
    "\n",
    "def scalar_multiply(c: float, v: Vector) -> Vector:\n",
    "    \"\"\"Multiplica um vetor por um escalar\"\"\"\n",
    "    return [c * v_i for v_i in v]\n",
    "\n",
    "assert scalar_multiply(4, [2, 3]) == [8, 12], 'A função não está funcionando'"
   ]
  },
  {
   "cell_type": "code",
   "execution_count": 10,
   "metadata": {},
   "outputs": [],
   "source": [
    "# Média de vetores\n",
    "\n",
    "def vector_mean(v: List[Vector]) -> Vector:\n",
    "    \"\"\"Calcula a média dos vetores dados\"\"\"\n",
    "    n = len(v)\n",
    "    return scalar_multiply(1/n, vector_sum(v))\n",
    "\n",
    "assert vector_mean([[1,2], [2,3], [3,4]]) == [2,3], 'A função não funcionou'"
   ]
  },
  {
   "cell_type": "code",
   "execution_count": null,
   "metadata": {},
   "outputs": [],
   "source": [
    "# Multiplicação de dois vetores\n",
    "\n",
    "def dot(v: Vector, w: Vector) -> float:\n",
    "    \"\"\"Calcula o produto de dois vetores, v_1 * w_1 + v_2 * w_2...\"\"\"\n",
    "    assert len(v) == len(w), 'as funções não têm o mesmo tamanho'\n",
    "\n",
    "    return sum(v_i * w_i for v_i, w_i in zip(v, w))\n",
    "\n",
    "assert dot([1,2,3], [4,5,6]) == 32, 'A função não funcionou'\n",
    "dot([1,2,3], [4,5,6])"
   ]
  },
  {
   "cell_type": "code",
   "execution_count": 5,
   "metadata": {},
   "outputs": [],
   "source": [
    "# Soma dos quadrados de um vetor\n",
    "\n",
    "def sum_of_squares(v: Vector) -> float:\n",
    "    \"\"\"Calcula a soma dos quadrados dos vetores\"\"\"\n",
    "    return dot(v, v)\n",
    "\n",
    "assert sum_of_squares([1,2,3]) == 14, \"A função não funcionou\""
   ]
  },
  {
   "cell_type": "code",
   "execution_count": 16,
   "metadata": {},
   "outputs": [],
   "source": [
    "# Calculo da magnitude de um vetor\n",
    "\n",
    "def magnitude(v: Vector) -> float:\n",
    "    \"\"\"Calcula a magnitude (comprimento) de um vetor\"\"\"\n",
    "    return sum_of_squares(v)**(1/2)\n",
    "\n",
    "assert magnitude([3,4]) == 5"
   ]
  },
  {
   "cell_type": "code",
   "execution_count": 26,
   "metadata": {},
   "outputs": [],
   "source": [
    "# Distância entre dois vetores \n",
    "\n",
    "def distance(v: Vector, w: Vector) -> float:\n",
    "    \"\"\"Calcula a distância entre dois vetores\"\"\"\n",
    "    return magnitude(subtract(v, w))\n",
    "\n",
    "assert distance([2,3], [3,4]) == 2**(1/2)"
   ]
  },
  {
   "cell_type": "markdown",
   "metadata": {},
   "source": [
    "MATRIZES"
   ]
  },
  {
   "cell_type": "code",
   "execution_count": 58,
   "metadata": {},
   "outputs": [],
   "source": [
    "Matrix = List[List[float]]\n",
    "\n",
    "A = [[1,2,3], # Essa é uma matriz 2x3\n",
    "     [4,5,6]]\n",
    "\n",
    "B = [[1,2], # Essa é uma matriz 3x2\n",
    "     [3,4],\n",
    "     [5,6]]\n"
   ]
  },
  {
   "cell_type": "code",
   "execution_count": 59,
   "metadata": {},
   "outputs": [
    {
     "data": {
      "text/plain": [
       "(2, 3)"
      ]
     },
     "execution_count": 59,
     "metadata": {},
     "output_type": "execute_result"
    }
   ],
   "source": [
    "from typing import Tuple\n",
    "\n",
    "def shape(A: Matrix) -> Tuple[int, int]:\n",
    "    \"\"\"Retorna (n° de linhas de A, n° de colunas de A)\"\"\"\n",
    "    num_rows = len(A)\n",
    "    num_col = len(A[0]) if A else 0\n",
    "    return num_rows, num_col \n",
    "\n",
    "shape(A)"
   ]
  },
  {
   "cell_type": "code",
   "execution_count": 67,
   "metadata": {},
   "outputs": [
    {
     "data": {
      "text/plain": [
       "[4, 5, 6]"
      ]
     },
     "execution_count": 67,
     "metadata": {},
     "output_type": "execute_result"
    }
   ],
   "source": [
    "def get_row(A: Matrix, i: int) -> Vector:\n",
    "    \"Retorna uma determinada linha de uma determinada matriz\"\n",
    "    return A[i]\n",
    "\n",
    "get_row(A, 1)"
   ]
  },
  {
   "cell_type": "code",
   "execution_count": 71,
   "metadata": {},
   "outputs": [
    {
     "data": {
      "text/plain": [
       "[1, 3, 5]"
      ]
     },
     "execution_count": 71,
     "metadata": {},
     "output_type": "execute_result"
    }
   ],
   "source": [
    "def get_col(A: Matrix, j: int) -> Vector:\n",
    "    \"Retorna uma determinada coluna de uma determinada matriz\"\n",
    "    return [A_j[j] for A_j in A]\n",
    "\n",
    "get_col(B, 0)"
   ]
  },
  {
   "cell_type": "code",
   "execution_count": null,
   "metadata": {},
   "outputs": [],
   "source": [
    "from typing import Callable\n",
    "\n",
    "def make_matrix(num_rows: int,\n",
    "                num_cols: int,\n",
    "                entry_fn: Callable[[int, int], float]) -> Matrix:\n",
    "    \"\"\"\n",
    "    Retorna uma matriz num_rows x num_cols\n",
    "    cuja entrada (i, j) é entry_fn(i,j)\n",
    "    \"\"\"\n",
    "    return [[entry_fn(i,j)               # com i crie uma lista\n",
    "             for j in range(num_cols)    # [entry_fn(i,0), ...]\n",
    "             for i in range(num_rows)]]  # crie uma lista para cada i"
   ]
  },
  {
   "cell_type": "code",
   "execution_count": null,
   "metadata": {},
   "outputs": [],
   "source": [
    "def identity_matrix(n: int) -> Matrix:\n",
    "    \"\"\"Retorna a matriz identidade n x n\"\"\"\n",
    "    return make_matrix(n, n, lambda i, j: 1 if i == j else 0)\n",
    "\n",
    "print(identity_matrix(4))"
   ]
  }
 ],
 "metadata": {
  "kernelspec": {
   "display_name": "Python 3",
   "language": "python",
   "name": "python3"
  },
  "language_info": {
   "codemirror_mode": {
    "name": "ipython",
    "version": 3
   },
   "file_extension": ".py",
   "mimetype": "text/x-python",
   "name": "python",
   "nbconvert_exporter": "python",
   "pygments_lexer": "ipython3",
   "version": "3.12.2"
  }
 },
 "nbformat": 4,
 "nbformat_minor": 2
}
