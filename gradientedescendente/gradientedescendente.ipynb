{
 "cells": [
  {
   "cell_type": "markdown",
   "metadata": {},
   "source": [
    "## Gradiente Descendente"
   ]
  },
  {
   "cell_type": "markdown",
   "metadata": {},
   "source": [
    "--------------------------------------------------------------------------------------------------------------------------------------"
   ]
  },
  {
   "cell_type": "code",
   "execution_count": 3,
   "metadata": {},
   "outputs": [],
   "source": [
    "def soma_quadrados(lista: list) -> float:\n",
    "    \"\"\"Computa a soma dos quadrados dos\n",
    "    elementos de uma lista\"\"\"\n",
    "    return sum([i*i for i in lista])"
   ]
  },
  {
   "cell_type": "code",
   "execution_count": null,
   "metadata": {},
   "outputs": [],
   "source": [
    "# Estimando gradiente\n",
    "from typing import Callable, List\n",
    "Vector = List[float]\n",
    "\n",
    "def quociente_diferencial(f: Callable[[float], float], x: float, h: float) -> float:\n",
    "    return (f(x + h) - f(x)) / h\n",
    "\n",
    "def quadrado(x: float) -> float:\n",
    "    return x * x\n",
    "\n",
    "def derivada(x: float) -> float:\n",
    "    return 2 * x"
   ]
  },
  {
   "cell_type": "code",
   "execution_count": 7,
   "metadata": {},
   "outputs": [
    {
     "data": {
      "image/png": "[encoded data removed]",
      "text/plain": [
       "<Figure size 640x480 with 1 Axes>"
      ]
     },
     "metadata": {},
     "output_type": "display_data"
    }
   ],
   "source": [
    "# Resultado da estimativa\n",
    "\n",
    "xs = range(-10, 11)\n",
    "atual = [derivada(x) for x in xs]\n",
    "estimativa = [quociente_diferencial(quadrado, x, h=0.001) for x in xs]\n",
    "\n",
    "# plotagem\n",
    "import matplotlib.pyplot as plt\n",
    "plt.plot(xs, atual, 'rx', label=\"Atual\") \n",
    "plt.plot(xs, estimativa, 'b+', label=\"Estimativa\")\n",
    "plt.title(\"Derivadas Reais vs Estimativas\")\n",
    "plt.legend(loc=9)\n",
    "plt.show()"
   ]
  },
  {
   "cell_type": "code",
   "execution_count": null,
   "metadata": {},
   "outputs": [],
   "source": [
    "def quociente_diferencial_parcial(f: Callable[[Vector], float], v: Vector, i: int, h: float) -> float:\n",
    "    \"\"\"Retorna o quociente parcial das diferenças i e f em v\"\"\"\n",
    "    w = [v_j + (h if j == i else 0) for j, v_j in enumerate(v)]\n",
    "    return (f(w) - f(v)) / h\n",
    "\n",
    "def estimativa_gradiente(f: Callable[[Vector], float], v: Vector, h: float = 0.0001):\n",
    "    return [quociente_diferencial_parcial(f, v, i, h) for i in range(len(v))]"
   ]
  },
  {
   "cell_type": "markdown",
   "metadata": {},
   "source": [
    "Conferindo que a função soma_quadrados expressa o mínimo quando a sua entrada é zero."
   ]
  },
  {
   "cell_type": "code",
   "execution_count": 15,
   "metadata": {},
   "outputs": [],
   "source": [
    "# funções do notebook de algebra linear\n",
    "def add(v: Vector, w: Vector) -> Vector:\n",
    "    \"\"\"Soma os elementos correspondentes\"\"\"\n",
    "    assert len(v) == len(w), 'Os vetores devem ser do mesmo tamanho'\n",
    "    return [v_i + w_i for v_i, w_i in zip(v, w)]\n",
    "\n",
    "def scalar_multiply(c: float, v: Vector) -> Vector:\n",
    "    \"\"\"Multiplica um vetor por um escalar\"\"\"\n",
    "    return [c * v_i for v_i in v]\n",
    "\n",
    "def dot(v: Vector, w: Vector) -> float:\n",
    "    \"\"\"Calcula o produto de dois vetores, v_1 * w_1 + v_2 * w_2...\"\"\"\n",
    "    assert len(v) == len(w), 'as funções não têm o mesmo tamanho'\n",
    "\n",
    "    return sum(v_i * w_i for v_i, w_i in zip(v, w))\n",
    "\n",
    "def sum_of_squares(v: Vector) -> float:\n",
    "    \"\"\"Calcula a soma dos quadrados dos vetores\"\"\"\n",
    "    return dot(v, v)\n",
    "\n",
    "def magnitude(v: Vector) -> float:\n",
    "    \"\"\"Calcula a magnitude (comprimento) de um vetor\"\"\"\n",
    "    return sum_of_squares(v)**(1/2)\n",
    "\n",
    "def subtract(v: Vector, w: Vector) -> Vector:\n",
    "    \"\"\"Soma os elementos correspondentes\"\"\"\n",
    "    assert len(v) == len(w), 'Os vetores devem ser do mesmo tamanho'\n",
    "    return [v_i - w_i for v_i, w_i in zip(v, w)]\n",
    "\n",
    "def distance(v: Vector, w: Vector) -> float:\n",
    "    \"\"\"Calcula a distância entre dois vetores\"\"\"\n",
    "    return magnitude(subtract(v, w))\n",
    "\n",
    "def vector_sum(vectors: List[Vector]) -> Vector:\n",
    "    \"\"\"Soma de mais de dois vetores\"\"\"\n",
    "    assert vectors, \"nenhum vetor foi fornecido\"\n",
    "\n",
    "    num_elements =len(vectors[0])\n",
    "    assert all(len(v) == num_elements for v in vectors), \"os vetores têm tamanhos diferentes\"\n",
    "\n",
    "    return [sum(vector[i] for vector in vectors ) for i in range(num_elements)]\n",
    "\n",
    "def vector_mean(v: List[Vector]) -> Vector:\n",
    "    \"\"\"Calcula a média dos vetores dados\"\"\"\n",
    "    n = len(v)\n",
    "    return scalar_multiply(1/n, vector_sum(v))"
   ]
  },
  {
   "cell_type": "code",
   "execution_count": null,
   "metadata": {},
   "outputs": [
    {
     "name": "stdout",
     "output_type": "stream",
     "text": [
      "1.6318559945466994e-08\n"
     ]
    }
   ],
   "source": [
    "import random\n",
    "\n",
    "def passo_gradiente(v: Vector, gradiente: Vector, tamanho_passo: float) -> Vector:\n",
    "    \"\"\"Move um 'tamanho_passo' na direção do gradiente a partir de v\"\"\"\n",
    "    assert len(v) == len(gradiente)\n",
    "    passo = scalar_multiply(tamanho_passo, gradiente)\n",
    "    return add(v, passo)\n",
    "\n",
    "def soma_quadrados_gradiente(v: Vector) -> Vector:\n",
    "    return [2 * v_i for v_i in v]\n",
    "\n",
    "# Selecionando um ponto de partida aleatório\n",
    "v = [random.uniform(-10, 10) for i in range(3)]\n",
    "\n",
    "for epoch in range(1000):\n",
    "    grad = soma_quadrados_gradiente(v) # compute o gradiente em v\n",
    "    v = (passo_gradiente(v, grad, -0.01)) # dê um passo negativo para o gradiente\n",
    "    #print(epoch, v)\n",
    "\n",
    "assert distance(v, [0,0,0]) < 0.001 # v deve ser próximo de 0\n",
    "print(distance(v, [0,0,0]))"
   ]
  },
  {
   "cell_type": "code",
   "execution_count": null,
   "metadata": {},
   "outputs": [],
   "source": [
    "inputs = [(x, 20 * x + 5) for x in range(-50, 50)]\n",
    "\n",
    "def gradiente_linear(x: float, y: float, theta: Vector) -> Vector:\n",
    "    slop, intercept = theta\n",
    "    predicted = slop * x + intercept # previsão do modelo\n",
    "    error = (predicted - y) # o erro é (previsto - real)\n",
    "    squared_error = error ** 2 # Minimizando o erro quadrático\n",
    "    grad_1 = [2 * error * x, 2 * error] # usando seu gradiente\n",
    "    return grad_1"
   ]
  },
  {
   "cell_type": "code",
   "execution_count": null,
   "metadata": {},
   "outputs": [
    {
     "name": "stdout",
     "output_type": "stream",
     "text": [
      "[19.999999862438507, 4.999770960031621]\n"
     ]
    }
   ],
   "source": [
    "# Começando com valores aleatórios para a inclinação e o intercepto\n",
    "theta = [random.uniform(-1, 1), random.uniform(-1, 1)]\n",
    "\n",
    "learning_rate = 0.001\n",
    "\n",
    "for epoch in range(5000):\n",
    "    # Computando a média dos gradientes\n",
    "    grad_2 = vector_mean([gradiente_linear(x, y, theta) for x, y in inputs])\n",
    "    # Dando um passo nessa direção\n",
    "    theta = passo_gradiente(theta, grad_2, -learning_rate)\n",
    "    # print(epoch, theta)\n",
    "\n",
    "print(theta) # Tem que ser algo próximo de 20 e 5 "
   ]
  },
  {
   "cell_type": "markdown",
   "metadata": {},
   "source": [
    "Minibatch e gradiente descendente"
   ]
  },
  {
   "cell_type": "code",
   "execution_count": 36,
   "metadata": {},
   "outputs": [],
   "source": [
    "from typing import TypeVar, List, Iterator\n",
    "\n",
    "T = TypeVar(\"T\") # Isso permite a inserção de funções genéricas\n",
    "\n",
    "def minibatches(dataset: List[T], batch_size: int, shuffle: bool = True) -> Iterator[List[T]]:\n",
    "    \"\"\"Gera minibatches de tamanho 'batch_size' a partir do conjunto de dados\"\"\"\n",
    "    # inicie os índices 0, batch_size, 2 * batch_soze, ...\n",
    "    batch_starts = [start for start in range(0, len(dataset), batch_size)]\n",
    "\n",
    "    if shuffle: random.shuffle(batch_starts) # Classificando os batches aleatoriamente\n",
    "\n",
    "    for start in batch_starts:\n",
    "        end = start + batch_size\n",
    "        yield dataset[start:end]"
   ]
  },
  {
   "cell_type": "code",
   "execution_count": 52,
   "metadata": {},
   "outputs": [
    {
     "name": "stdout",
     "output_type": "stream",
     "text": [
      "[19.99999999860942, 4.999999291329305]\n"
     ]
    }
   ],
   "source": [
    "# Usando minibatches para ajustar os modelos\n",
    "\n",
    "theta = [random.uniform(-1, 1), random.uniform(-1, 1)]\n",
    "\n",
    "for epoch in range(1000):\n",
    "    for batch in minibatches(inputs, batch_size=20):\n",
    "        grad_m = vector_mean([gradiente_linear(x, y, theta) for x, y in batch])\n",
    "        theta = passo_gradiente(theta, grad_m, -learning_rate)\n",
    "\n",
    "print(theta)"
   ]
  },
  {
   "cell_type": "code",
   "execution_count": 54,
   "metadata": {},
   "outputs": [
    {
     "name": "stdout",
     "output_type": "stream",
     "text": [
      "[20.06079708627012, 1.9739814939727012]\n"
     ]
    }
   ],
   "source": [
    "# Gradiente descendente estocástico\n",
    "\n",
    "theta = [random.uniform(-1, 1), random.uniform(-1, 1)]\n",
    "for epoch in range(10):\n",
    "    for x, y in inputs:\n",
    "        grad_e = gradiente_linear(x, y, theta)\n",
    "        theta = passo_gradiente(theta, grad_e, -learning_rate)\n",
    "\n",
    "print(theta)"
   ]
  }
 ],
 "metadata": {
  "kernelspec": {
   "display_name": "Python 3",
   "language": "python",
   "name": "python3"
  },
  "language_info": {
   "codemirror_mode": {
    "name": "ipython",
    "version": 3
   },
   "file_extension": ".py",
   "mimetype": "text/x-python",
   "name": "python",
   "nbconvert_exporter": "python",
   "pygments_lexer": "ipython3",
   "version": "3.12.2"
  }
 },
 "nbformat": 4,
 "nbformat_minor": 2
}
